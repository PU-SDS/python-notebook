{
 "cells": [
  {
   "cell_type": "markdown",
   "metadata": {},
   "source": [
    "# Making a Connection with MongoClient\n",
    "\n",
    "The first thing we need to do is import `pymongo`. The import should run without any errors to signify that we've done our installation well."
   ]
  },
  {
   "cell_type": "code",
   "execution_count": 26,
   "metadata": {},
   "outputs": [],
   "source": [
    "import pymongo\n",
    "from bson.objectid import ObjectId"
   ]
  },
  {
   "cell_type": "markdown",
   "metadata": {},
   "source": [
    "Establishing a connection in MongoDB requires us to create a `MongoClient` to the running MongoDB instance. We can specify the MongoDB's host and port as shown below:"
   ]
  },
  {
   "cell_type": "code",
   "execution_count": 2,
   "metadata": {},
   "outputs": [],
   "source": [
    "from pymongo import MongoClient\n",
    "client = MongoClient('mongodb://192.168.103.46:27017/')"
   ]
  },
  {
   "cell_type": "markdown",
   "metadata": {},
   "source": [
    "# Creating a Database\n",
    "To create a database in MongoDB, we use the `MongoClient` instance and specify a database name. MongoDB will create a database if it doesn't exist and connect to it."
   ]
  },
  {
   "cell_type": "code",
   "execution_count": 3,
   "metadata": {},
   "outputs": [],
   "source": [
    "db = client['bigdatadb']"
   ]
  },
  {
   "cell_type": "markdown",
   "metadata": {},
   "source": [
    "note: You need to replace the `bigdatadb` with your own database name.\n",
    "\n",
    "It is important to note that databases and collections are created lazily in MongoDB. This means that the collections and databases are created when the first document is inserted into them."
   ]
  },
  {
   "cell_type": "markdown",
   "metadata": {},
   "source": [
    "# Data in MongoDB\n",
    "\n",
    "Data in MongoDB is represented and stored using JSON-Style documents. In PyMongo we use dictionaries to represent documents. Let's show an example of a PyMongo document below:"
   ]
  },
  {
   "cell_type": "code",
   "execution_count": 4,
   "metadata": {},
   "outputs": [],
   "source": [
    "lecture = {\"lecturer\": \"Muhammad Farhan Sjaugi\", \"lecture\": \"Introduction to MongoDB and Python\", \"tags\": [\"mongodb\", \"python\", \"pymongo\"]}"
   ]
  },
  {
   "cell_type": "markdown",
   "metadata": {},
   "source": [
    "## Inserting a Document\n",
    "\n",
    "To insert a document into a collection, we use the `insert_one()` method. As we saw earlier, a collection is similar to a table in RDBMS while a document is similar to a row."
   ]
  },
  {
   "cell_type": "code",
   "execution_count": 5,
   "metadata": {},
   "outputs": [],
   "source": [
    "courses = db.courses\n",
    "result = courses.insert_one(lecture)"
   ]
  },
  {
   "cell_type": "markdown",
   "metadata": {},
   "source": [
    "When the document is inserted, a special key `_id` is generated and its unique to this document. We can print the document ID as shown below:"
   ]
  },
  {
   "cell_type": "code",
   "execution_count": 6,
   "metadata": {},
   "outputs": [
    {
     "name": "stdout",
     "output_type": "stream",
     "text": [
      "First lecture key is: 5fce3b9d5f48af72bc8bb6dc\n"
     ]
    }
   ],
   "source": [
    "print(\"First lecture key is: {}\".format(result.inserted_id))"
   ]
  },
  {
   "cell_type": "markdown",
   "metadata": {},
   "source": [
    "The courses collection is created after inserting the first document. We can confirm this using the `list_collection_names` method."
   ]
  },
  {
   "cell_type": "code",
   "execution_count": 7,
   "metadata": {},
   "outputs": [
    {
     "data": {
      "text/plain": [
       "['courses']"
      ]
     },
     "execution_count": 7,
     "metadata": {},
     "output_type": "execute_result"
    }
   ],
   "source": [
    "db.list_collection_names()"
   ]
  },
  {
   "cell_type": "markdown",
   "metadata": {},
   "source": [
    "We can insert multiple documents to a collection using the `insert_many()` method as shown below."
   ]
  },
  {
   "cell_type": "code",
   "execution_count": 8,
   "metadata": {},
   "outputs": [
    {
     "name": "stdout",
     "output_type": "stream",
     "text": [
      "The new lecture IDs are [ObjectId('5fce3cbe5f48af72bc8bb6dd'), ObjectId('5fce3cbe5f48af72bc8bb6de')]\n"
     ]
    }
   ],
   "source": [
    "lecture1 = {\"lecturer\": \"Muhammad Farhan Sjaugi\",\"lecture\": \"Hadoop and Spark\",\"tags\":[\"hadoop\",\"spark\"]}\n",
    "lecture2 = {\"lecturer\": \"Muhammad Farhan Sjaugi\",\"lecture\": \"Python and NoSQL\",\"tags\":[\"python\",\"nosql\"]}\n",
    "new_lectures = courses.insert_many([lecture1, lecture2])\n",
    "print(\"The new lecture IDs are {}\".format(new_lectures.inserted_ids))"
   ]
  },
  {
   "cell_type": "markdown",
   "metadata": {},
   "source": [
    "## Retrieving a Single Document with **find_one()**\n",
    "`find_one()` returns a single document matching the query or none if it doesn't exist. This method returns the first match that it comes across. When we call the method below, we get the first lecture we inserted into our collection."
   ]
  },
  {
   "cell_type": "code",
   "execution_count": 9,
   "metadata": {},
   "outputs": [
    {
     "name": "stdout",
     "output_type": "stream",
     "text": [
      "{'_id': ObjectId('5fce3b9d5f48af72bc8bb6dc'), 'lecturer': 'Muhammad Farhan Sjaugi', 'lecture': 'Introduction to MongoDB and Python', 'tags': ['mongodb', 'python', 'pymongo']}\n"
     ]
    }
   ],
   "source": [
    "print(courses.find_one())"
   ]
  },
  {
   "cell_type": "markdown",
   "metadata": {},
   "source": [
    "## Finding all Documents in a Collection\n",
    "MongoDB also allows us to retrieve all documents in a collection using the `find` method."
   ]
  },
  {
   "cell_type": "code",
   "execution_count": 11,
   "metadata": {},
   "outputs": [
    {
     "name": "stdout",
     "output_type": "stream",
     "text": [
      "{'_id': ObjectId('5fce3b9d5f48af72bc8bb6dc'), 'lecturer': 'Muhammad Farhan Sjaugi', 'lecture': 'Introduction to MongoDB and Python', 'tags': ['mongodb', 'python', 'pymongo']}\n",
      "{'_id': ObjectId('5fce3cbe5f48af72bc8bb6dd'), 'lecturer': 'Muhammad Farhan Sjaugi', 'lecture': 'Hadoop and Spark', 'tags': ['hadoop', 'spark']}\n",
      "{'_id': ObjectId('5fce3cbe5f48af72bc8bb6de'), 'lecturer': 'Muhammad Farhan Sjaugi', 'lecture': 'Python and NoSQL', 'tags': ['python', 'nosql']}\n"
     ]
    }
   ],
   "source": [
    "for lecture in courses.find():\n",
    "  print(lecture)"
   ]
  },
  {
   "cell_type": "markdown",
   "metadata": {},
   "source": [
    "## Return Some Fields Only\n",
    "Sometimes we might not want to return all the fields from our documents. Let's show we'd fetch specific fields. In our case we use 0 to specify that the `_id` should not be fetched and 1 to specify that `lecturer` and `lecture` should be fetched. MongoDB doesn't allow us to specify zero twice. For example, specify `tags` to 0 below will generate an error. We are not allowed to specify both 0 and 1 values in the same object (unless one of the fields is the `_id` field). When we specify a field with the value 0, all other fields get the value 1."
   ]
  },
  {
   "cell_type": "code",
   "execution_count": 12,
   "metadata": {},
   "outputs": [
    {
     "name": "stdout",
     "output_type": "stream",
     "text": [
      "{'lecturer': 'Muhammad Farhan Sjaugi', 'lecture': 'Introduction to MongoDB and Python'}\n",
      "{'lecturer': 'Muhammad Farhan Sjaugi', 'lecture': 'Hadoop and Spark'}\n",
      "{'lecturer': 'Muhammad Farhan Sjaugi', 'lecture': 'Python and NoSQL'}\n"
     ]
    }
   ],
   "source": [
    "for lecture in courses.find({},{ \"_id\": 0, \"lecturer\": 1, \"lecture\": 1}):\n",
    "  print(lecture)"
   ]
  },
  {
   "cell_type": "markdown",
   "metadata": {},
   "source": [
    "## Sorting the Results\n",
    "We can use the `sort()` method to sort the results in ascending or descending order. The default order is ascending. We use 1 to signify ascending and -1 to signify descending."
   ]
  },
  {
   "cell_type": "code",
   "execution_count": 14,
   "metadata": {},
   "outputs": [
    {
     "name": "stdout",
     "output_type": "stream",
     "text": [
      "{'_id': ObjectId('5fce3cbe5f48af72bc8bb6de'), 'lecturer': 'Muhammad Farhan Sjaugi', 'lecture': 'Python and NoSQL', 'tags': ['python', 'nosql']}\n",
      "{'_id': ObjectId('5fce3b9d5f48af72bc8bb6dc'), 'lecturer': 'Muhammad Farhan Sjaugi', 'lecture': 'Introduction to MongoDB and Python', 'tags': ['mongodb', 'python', 'pymongo']}\n",
      "{'_id': ObjectId('5fce3cbe5f48af72bc8bb6dd'), 'lecturer': 'Muhammad Farhan Sjaugi', 'lecture': 'Hadoop and Spark', 'tags': ['hadoop', 'spark']}\n"
     ]
    }
   ],
   "source": [
    "doc = courses.find().sort(\"lecture\", -1)\n",
    "\n",
    "for x in doc:\n",
    "  print(x)"
   ]
  },
  {
   "cell_type": "markdown",
   "metadata": {},
   "source": [
    "## Updating a Document\n",
    "We update a document using the `update_one()` method. The first parameter taken by this function is a query object defining the document to be updated. If the method finds more than one document, it will only update the first one. Let's update the name of the lecturer in the lecture with topics 'Python and NoSQL'"
   ]
  },
  {
   "cell_type": "code",
   "execution_count": 25,
   "metadata": {},
   "outputs": [
    {
     "name": "stdout",
     "output_type": "stream",
     "text": [
      "{'_id': ObjectId('5fce3b9d5f48af72bc8bb6dc'), 'lecturer': 'Muhammad Farhan Sjaugi', 'lecture': 'Introduction to MongoDB and Python', 'tags': ['mongodb', 'python', 'pymongo']}\n",
      "{'_id': ObjectId('5fce3cbe5f48af72bc8bb6dd'), 'lecturer': 'Muhammad Farhan Sjaugi', 'lecture': 'Hadoop and Spark', 'tags': ['hadoop', 'spark']}\n",
      "{'_id': ObjectId('5fce3cbe5f48af72bc8bb6de'), 'lecturer': 'Mohammad Asif Khan', 'lecture': 'Python and NoSQL', 'tags': ['python', 'nosql']}\n"
     ]
    }
   ],
   "source": [
    "query = { \"lecture\": \"Python and NoSQL\" }\n",
    "new_lecturer = { \"$set\": { \"lecturer\": \"Mohammad Asif Khan\" } }\n",
    "\n",
    "courses.update_one(query, new_lecturer)\n",
    "\n",
    "for lecture in courses.find():\n",
    "  print(lecture)"
   ]
  },
  {
   "cell_type": "markdown",
   "metadata": {},
   "source": [
    "## Limiting the Result\n",
    "MongoDB enables us to limit the result of our query using the `limit` method. In our query below we'll limit the result to one record."
   ]
  },
  {
   "cell_type": "code",
   "execution_count": 22,
   "metadata": {},
   "outputs": [
    {
     "name": "stdout",
     "output_type": "stream",
     "text": [
      "{'_id': ObjectId('5fce3b9d5f48af72bc8bb6dc'), 'lecturer': 'Muhammad Farhan Sjaugi', 'lecture': 'Introduction to MongoDB and Python', 'tags': ['mongodb', 'python', 'pymongo']}\n"
     ]
    }
   ],
   "source": [
    "limited_result = courses.find().limit(1)\n",
    "for x in limited_result:\n",
    "    print(x)"
   ]
  },
  {
   "cell_type": "markdown",
   "metadata": {},
   "source": [
    "## MongoDB Delete Document\n",
    "We use the `delete_one()` method to delete a document in MongoDB. The first parameter for this method is the query object of the document we want to delete. If this method finds more than one document, it deletes only the first one found. Let's delete the article with the id `5fce3b9d5f48af72bc8bb6dc`"
   ]
  },
  {
   "cell_type": "code",
   "execution_count": 27,
   "metadata": {},
   "outputs": [
    {
     "data": {
      "text/plain": [
       "<pymongo.results.DeleteResult at 0x7f6c085100a0>"
      ]
     },
     "execution_count": 27,
     "metadata": {},
     "output_type": "execute_result"
    }
   ],
   "source": [
    "db.courses.delete_one({\"_id\":ObjectId(\"5fce3b9d5f48af72bc8bb6dc\")})"
   ]
  },
  {
   "cell_type": "markdown",
   "metadata": {},
   "source": [
    "## Deleting Many Documents\n",
    "In order to delete many documents, we use the `delete_many()` method. Passing an empty query object will delete all the documents."
   ]
  },
  {
   "cell_type": "code",
   "execution_count": 28,
   "metadata": {},
   "outputs": [
    {
     "name": "stdout",
     "output_type": "stream",
     "text": [
      "2  lectures deleted.\n"
     ]
    }
   ],
   "source": [
    "delete_lectures = courses.delete_many({})\n",
    "print(delete_lectures.deleted_count, \" lectures deleted.\")"
   ]
  },
  {
   "cell_type": "markdown",
   "metadata": {},
   "source": [
    "## Dropping a Collection\n",
    "In MongoDB, we can delete a collection using the `drop()` method."
   ]
  },
  {
   "cell_type": "code",
   "execution_count": 29,
   "metadata": {},
   "outputs": [],
   "source": [
    "courses.drop()"
   ]
  },
  {
   "cell_type": "markdown",
   "metadata": {},
   "source": [
    "We can confirm that the collection has been deleted since when we call the `list_collection_names`, we get an empty list."
   ]
  },
  {
   "cell_type": "code",
   "execution_count": 30,
   "metadata": {},
   "outputs": [
    {
     "data": {
      "text/plain": [
       "[]"
      ]
     },
     "execution_count": 30,
     "metadata": {},
     "output_type": "execute_result"
    }
   ],
   "source": [
    "db.list_collection_names()"
   ]
  }
 ],
 "metadata": {
  "kernelspec": {
   "display_name": "Python 3",
   "language": "python",
   "name": "python3"
  },
  "language_info": {
   "codemirror_mode": {
    "name": "ipython",
    "version": 3
   },
   "file_extension": ".py",
   "mimetype": "text/x-python",
   "name": "python",
   "nbconvert_exporter": "python",
   "pygments_lexer": "ipython3",
   "version": "3.7.4"
  }
 },
 "nbformat": 4,
 "nbformat_minor": 4
}
